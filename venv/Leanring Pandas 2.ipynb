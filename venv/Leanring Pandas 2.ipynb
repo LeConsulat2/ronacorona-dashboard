{
 "cells": [
  {
   "cell_type": "code",
   "execution_count": null,
   "id": "932ff6f6-2232-401c-a8e2-85d00624c9d7",
   "metadata": {},
   "outputs": [],
   "source": []
  }
 ],
 "metadata": {
  "kernelspec": {
   "display_name": "",
   "name": ""
  },
  "language_info": {
   "name": ""
  }
 },
 "nbformat": 4,
 "nbformat_minor": 5
}
