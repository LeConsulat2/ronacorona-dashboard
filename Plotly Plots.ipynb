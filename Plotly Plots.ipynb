{
 "cells": [
  {
   "cell_type": "code",
   "execution_count": 28,
   "id": "66b25e3d-1727-4184-a97c-396ea4691b4a",
   "metadata": {},
   "outputs": [
    {
     "name": "stdout",
     "output_type": "stream",
     "text": [
      "  Country_Region  Confirmed  Deaths  Recovered\n",
      "0             US   10641054  243556    4051256\n",
      "1          India    8728795  128668    8115580\n",
      "2         Brazil    5786393  164429    5254457\n",
      "3         France    1950135   43024     140470\n",
      "4         Russia    1843678   31755    1378463\n"
     ]
    },
    {
     "data": {
      "application/vnd.plotly.v1+json": {
       "config": {
        "plotlyServerURL": "https://plot.ly"
       },
       "data": [
        {
         "customdata": [
          [
           10641054,
           4051256,
           243556,
           "US"
          ],
          [
           8728795,
           8115580,
           128668,
           "India"
          ],
          [
           5786393,
           5254457,
           164429,
           "Brazil"
          ],
          [
           1950135,
           140470,
           43024,
           "France"
          ],
          [
           1843678,
           1378463,
           31755,
           "Russia"
          ],
          [
           1437220,
           150376,
           40461,
           "Spain"
          ],
          [
           1293684,
           3033,
           69121,
           "United Kingdom"
          ],
          [
           1284519,
           1100180,
           34782,
           "Argentina"
          ],
          [
           1174012,
           1081691,
           33491,
           "Colombia"
          ],
          [
           1066401,
           387758,
           43589,
           "Italy"
          ],
          [
           991835,
           736197,
           97056,
           "Mexico"
          ],
          [
           928006,
           853208,
           87738,
           "Peru"
          ],
          [
           744732,
           690903,
           20076,
           "South Africa"
          ],
          [
           738178,
           474208,
           11982,
           "Germany"
          ],
          [
           726585,
           541566,
           40121,
           "Iran"
          ],
          [
           641496,
           254349,
           9080,
           "Poland"
          ],
          [
           526438,
           502475,
           14699,
           "Chile"
          ],
          [
           520393,
           0,
           13891,
           "Belgium"
          ],
          [
           515755,
           237399,
           9422,
           "Ukraine"
          ],
          [
           511806,
           439228,
           11532,
           "Iraq"
          ],
          [
           452291,
           382084,
           14933,
           "Indonesia"
          ],
          [
           446675,
           300719,
           5755,
           "Czechia"
          ],
          [
           437376,
           6372,
           8375,
           "Netherlands"
          ],
          [
           427198,
           344868,
           6140,
           "Bangladesh"
          ],
          [
           404894,
           346794,
           11233,
           "Turkey"
          ],
          [
           402820,
           362417,
           7721,
           "Philippines"
          ],
          [
           352296,
           321563,
           7092,
           "Pakistan"
          ],
          [
           352160,
           339114,
           5605,
           "Saudi Arabia"
          ],
          [
           334236,
           224916,
           8510,
           "Romania"
          ],
          [
           322410,
           310494,
           2718,
           "Israel"
          ],
          [
           287419,
           230429,
           10846,
           "Canada"
          ],
          [
           276821,
           226040,
           4570,
           "Morocco"
          ],
          [
           250396,
           141000,
           3392,
           "Switzerland"
          ],
          [
           204242,
           164592,
           1189,
           "Nepal"
          ],
          [
           198011,
           113689,
           3181,
           "Portugal"
          ],
          [
           177513,
           154956,
           12946,
           "Ecuador"
          ],
          [
           174910,
           107875,
           2108,
           "Austria"
          ],
          [
           171365,
           0,
           6122,
           "Sweden"
          ],
          [
           158036,
           138309,
           2306,
           "Kazakhstan"
          ],
          [
           146735,
           141215,
           523,
           "United Arab Emirates"
          ],
          [
           143352,
           122070,
           2830,
           "Panama"
          ],
          [
           142889,
           116137,
           8825,
           "Bolivia"
          ],
          [
           135132,
           132153,
           234,
           "Qatar"
          ],
          [
           134932,
           125593,
           830,
           "Kuwait"
          ],
          [
           132086,
           9564,
           1547,
           "Jordan"
          ],
          [
           131636,
           109135,
           2274,
           "Dominican Republic"
          ],
          [
           126790,
           29302,
           2784,
           "Hungary"
          ],
          [
           120939,
           74255,
           1527,
           "Costa Rica"
          ],
          [
           119442,
           110050,
           1326,
           "Oman"
          ],
          [
           113652,
           99282,
           1873,
           "Japan"
          ],
          [
           113543,
           103174,
           3858,
           "Guatemala"
          ],
          [
           112680,
           70130,
           1668,
           "Armenia"
          ],
          [
           110455,
           92843,
           1027,
           "Belarus"
          ],
          [
           110095,
           100760,
           6417,
           "Egypt"
          ],
          [
           101468,
           44068,
           2804,
           "Honduras"
          ],
          [
           101248,
           63268,
           1554,
           "Ethiopia"
          ],
          [
           100703,
           55706,
           775,
           "Lebanon"
          ],
          [
           97980,
           86488,
           4742,
           "China"
          ],
          [
           96140,
           91141,
           841,
           "Venezuela"
          ],
          [
           90725,
           27587,
           1970,
           "Bulgaria"
          ],
          [
           89237,
           24314,
           464,
           "Slovakia"
          ],
          [
           86038,
           67270,
           1969,
           "Moldova"
          ],
          [
           84192,
           81846,
           332,
           "Bahrain"
          ],
          [
           76106,
           51807,
           2151,
           "Tunisia"
          ],
          [
           75922,
           58649,
           925,
           "Croatia"
          ],
          [
           73765,
           0,
           955,
           "Serbia"
          ],
          [
           71804,
           42703,
           985,
           "Libya"
          ],
          [
           70216,
           51986,
           905,
           "Azerbaijan"
          ],
          [
           69681,
           52169,
           599,
           "Georgia"
          ],
          [
           69653,
           50045,
           1543,
           "Paraguay"
          ],
          [
           69560,
           66814,
           593,
           "Uzbekistan"
          ],
          [
           68293,
           33690,
           1750,
           "Bosnia and Herzegovina"
          ],
          [
           66723,
           44040,
           1203,
           "Kenya"
          ],
          [
           66637,
           23074,
           959,
           "Greece"
          ],
          [
           66632,
           23364,
           1965,
           "Ireland"
          ],
          [
           65598,
           49563,
           1508,
           "Burma"
          ],
          [
           65108,
           42980,
           2111,
           "Algeria"
          ],
          [
           64887,
           55824,
           1193,
           "Kyrgyzstan"
          ],
          [
           64728,
           60790,
           1162,
           "Nigeria"
          ],
          [
           60784,
           52861,
           542,
           "West Bank and Gaza"
          ],
          [
           59478,
           45204,
           755,
           "Denmark"
          ],
          [
           58102,
           58002,
           28,
           "Singapore"
          ],
          [
           50870,
           30027,
           686,
           "Slovenia"
          ],
          [
           49957,
           48096,
           320,
           "Ghana"
          ],
          [
           43835,
           25782,
           1238,
           "North Macedonia"
          ],
          [
           43791,
           32068,
           303,
           "Malaysia"
          ],
          [
           42609,
           35024,
           1581,
           "Afghanistan"
          ],
          [
           36030,
           32246,
           1028,
           "El Salvador"
          ],
          [
           30485,
           10000,
           250,
           "Lithuania"
          ],
          [
           28133,
           25537,
           488,
           "Korea, South"
          ],
          [
           27676,
           22303,
           907,
           "Australia"
          ],
          [
           27228,
           11863,
           291,
           "Norway"
          ],
          [
           26888,
           16685,
           785,
           "Kosovo"
          ],
          [
           26211,
           12574,
           598,
           "Albania"
          ],
          [
           25509,
           16788,
           364,
           "Montenegro"
          ],
          [
           25218,
           14798,
           211,
           "Luxembourg"
          ],
          [
           22490,
           21510,
           433,
           "Cameroon"
          ],
          [
           20882,
           20584,
           127,
           "Cote d'Ivoire"
          ],
          [
           18906,
           14000,
           365,
           "Finland"
          ],
          [
           17223,
           16516,
           249,
           "Madagascar"
          ],
          [
           17056,
           16102,
           350,
           "Zambia"
          ],
          [
           15744,
           15386,
           326,
           "Senegal"
          ],
          [
           15723,
           10653,
           48,
           "Sri Lanka"
          ],
          [
           15217,
           7985,
           143,
           "Uganda"
          ],
          [
           14401,
           9535,
           1116,
           "Sudan"
          ],
          [
           14094,
           12134,
           104,
           "Mozambique"
          ],
          [
           13345,
           12188,
           135,
           "Namibia"
          ],
          [
           13053,
           6250,
           315,
           "Angola"
          ],
          [
           12537,
           10899,
           74,
           "Guinea"
          ],
          [
           12085,
           11225,
           41,
           "Maldives"
          ],
          [
           11692,
           10983,
           318,
           "Congo (Kinshasa)"
          ],
          [
           11456,
           10853,
           84,
           "Tajikistan"
          ],
          [
           9694,
           9004,
           102,
           "Cabo Verde"
          ],
          [
           9634,
           5043,
           225,
           "Jamaica"
          ],
          [
           9381,
           1515,
           107,
           "Latvia"
          ],
          [
           9152,
           7701,
           232,
           "Haiti"
          ],
          [
           9048,
           8922,
           57,
           "Gabon"
          ],
          [
           8696,
           8060,
           255,
           "Zimbabwe"
          ],
          [
           8225,
           5559,
           27,
           "Botswana"
          ],
          [
           7900,
           7500,
           165,
           "Mauritania"
          ],
          [
           7646,
           5479,
           88,
           "Malta"
          ],
          [
           7487,
           6924,
           131,
           "Cuba"
          ],
          [
           7124,
           5192,
           155,
           "Bahamas"
          ],
          [
           6881,
           4453,
           76,
           "Estonia"
          ],
          [
           6486,
           2558,
           333,
           "Syria"
          ],
          [
           6461,
           1882,
           32,
           "Cyprus"
          ],
          [
           6060,
           5746,
           117,
           "Eswatini"
          ],
          [
           5958,
           5369,
           185,
           "Malawi"
          ],
          [
           5930,
           5317,
           111,
           "Trinidad and Tobago"
          ],
          [
           5641,
           5509,
           61,
           "Djibouti"
          ],
          [
           5616,
           4585,
           75,
           "Andorra"
          ],
          [
           5379,
           3887,
           92,
           "Congo (Brazzaville)"
          ],
          [
           5319,
           4974,
           41,
           "Rwanda"
          ],
          [
           5261,
           5126,
           114,
           "Suriname"
          ],
          [
           5160,
           4663,
           25,
           "Iceland"
          ],
          [
           5104,
           4973,
           85,
           "Equatorial Guinea"
          ],
          [
           4888,
           1924,
           62,
           "Central African Republic"
          ],
          [
           4662,
           3616,
           138,
           "Guyana"
          ],
          [
           4596,
           2513,
           75,
           "Belize"
          ],
          [
           4533,
           4225,
           158,
           "Nicaragua"
          ],
          [
           4301,
           3330,
           107,
           "Somalia"
          ],
          [
           3852,
           3697,
           60,
           "Thailand"
          ],
          [
           3795,
           3103,
           63,
           "Uruguay"
          ],
          [
           3792,
           2923,
           138,
           "Mali"
          ],
          [
           3697,
           3556,
           122,
           "Gambia"
          ],
          [
           2960,
           1290,
           59,
           "South Sudan"
          ],
          [
           2844,
           2515,
           43,
           "Benin"
          ],
          [
           2605,
           1815,
           60,
           "Togo"
          ],
          [
           2586,
           2411,
           67,
           "Burkina Faso"
          ],
          [
           2419,
           2255,
           43,
           "Guinea-Bissau"
          ],
          [
           2387,
           1816,
           74,
           "Sierra Leone"
          ],
          [
           2068,
           1378,
           602,
           "Yemen"
          ],
          [
           2026,
           1029,
           44,
           "Lesotho"
          ],
          [
           1995,
           1917,
           26,
           "New Zealand"
          ],
          [
           1578,
           1428,
           100,
           "Chad"
          ],
          [
           1461,
           1312,
           82,
           "Liberia"
          ],
          [
           1282,
           1144,
           69,
           "Niger"
          ],
          [
           1253,
           1093,
           35,
           "Vietnam"
          ],
          [
           1190,
           857,
           42,
           "San Marino"
          ],
          [
           963,
           914,
           16,
           "Sao Tome and Principe"
          ],
          [
           947,
           656,
           4,
           "Liechtenstein"
          ],
          [
           712,
           659,
           13,
           "Diamond Princess"
          ],
          [
           623,
           549,
           1,
           "Burundi"
          ],
          [
           599,
           586,
           7,
           "Papua New Guinea"
          ],
          [
           589,
           532,
           7,
           "Taiwan*"
          ],
          [
           574,
           542,
           7,
           "Comoros"
          ],
          [
           532,
           408,
           2,
           "Monaco"
          ],
          [
           509,
           183,
           21,
           "Tanzania"
          ],
          [
           493,
           444,
           0,
           "Eritrea"
          ],
          [
           467,
           427,
           10,
           "Mauritius"
          ],
          [
           382,
           317,
           0,
           "Mongolia"
          ],
          [
           369,
           345,
           0,
           "Bhutan"
          ],
          [
           301,
           288,
           0,
           "Cambodia"
          ],
          [
           249,
           233,
           7,
           "Barbados"
          ],
          [
           158,
           157,
           0,
           "Seychelles"
          ],
          [
           148,
           145,
           3,
           "Brunei"
          ],
          [
           148,
           46,
           2,
           "Saint Lucia"
          ],
          [
           131,
           124,
           3,
           "Antigua and Barbuda"
          ],
          [
           77,
           74,
           0,
           "Saint Vincent and the Grenadines"
          ],
          [
           68,
           41,
           0,
           "Dominica"
          ],
          [
           35,
           32,
           2,
           "Fiji"
          ],
          [
           32,
           27,
           0,
           "Grenada"
          ],
          [
           30,
           29,
           0,
           "Timor-Leste"
          ],
          [
           27,
           15,
           0,
           "Holy See"
          ],
          [
           24,
           23,
           0,
           "Laos"
          ],
          [
           19,
           19,
           0,
           "Saint Kitts and Nevis"
          ],
          [
           16,
           5,
           0,
           "Solomon Islands"
          ],
          [
           9,
           0,
           2,
           "MS Zaandam"
          ],
          [
           1,
           0,
           0,
           "Vanuatu"
          ],
          [
           1,
           0,
           0,
           "Marshall Islands"
          ],
          [
           0,
           0,
           0,
           "Palau"
          ],
          [
           0,
           0,
           0,
           "Antarctica"
          ],
          [
           0,
           0,
           0,
           "Summer Olympics 2020"
          ],
          [
           0,
           0,
           0,
           "Kiribati"
          ],
          [
           0,
           0,
           0,
           "Tuvalu"
          ],
          [
           0,
           0,
           0,
           "Nauru"
          ],
          [
           0,
           0,
           0,
           "Winter Olympics 2022"
          ],
          [
           0,
           0,
           0,
           "Samoa"
          ],
          [
           0,
           0,
           0,
           "Tonga"
          ],
          [
           0,
           0,
           0,
           "Korea, North"
          ]
         ],
         "geo": "geo",
         "hovertemplate": "<b>%{hovertext}</b><br><br>Confirmed=%{marker.color:,.2f}<br>Recovered=%{customdata[1]:,.2f}<br>Deaths=%{customdata[2]:,.2f}<extra></extra>",
         "hovertext": [
          "US",
          "India",
          "Brazil",
          "France",
          "Russia",
          "Spain",
          "United Kingdom",
          "Argentina",
          "Colombia",
          "Italy",
          "Mexico",
          "Peru",
          "South Africa",
          "Germany",
          "Iran",
          "Poland",
          "Chile",
          "Belgium",
          "Ukraine",
          "Iraq",
          "Indonesia",
          "Czechia",
          "Netherlands",
          "Bangladesh",
          "Turkey",
          "Philippines",
          "Pakistan",
          "Saudi Arabia",
          "Romania",
          "Israel",
          "Canada",
          "Morocco",
          "Switzerland",
          "Nepal",
          "Portugal",
          "Ecuador",
          "Austria",
          "Sweden",
          "Kazakhstan",
          "United Arab Emirates",
          "Panama",
          "Bolivia",
          "Qatar",
          "Kuwait",
          "Jordan",
          "Dominican Republic",
          "Hungary",
          "Costa Rica",
          "Oman",
          "Japan",
          "Guatemala",
          "Armenia",
          "Belarus",
          "Egypt",
          "Honduras",
          "Ethiopia",
          "Lebanon",
          "China",
          "Venezuela",
          "Bulgaria",
          "Slovakia",
          "Moldova",
          "Bahrain",
          "Tunisia",
          "Croatia",
          "Serbia",
          "Libya",
          "Azerbaijan",
          "Georgia",
          "Paraguay",
          "Uzbekistan",
          "Bosnia and Herzegovina",
          "Kenya",
          "Greece",
          "Ireland",
          "Burma",
          "Algeria",
          "Kyrgyzstan",
          "Nigeria",
          "West Bank and Gaza",
          "Denmark",
          "Singapore",
          "Slovenia",
          "Ghana",
          "North Macedonia",
          "Malaysia",
          "Afghanistan",
          "El Salvador",
          "Lithuania",
          "Korea, South",
          "Australia",
          "Norway",
          "Kosovo",
          "Albania",
          "Montenegro",
          "Luxembourg",
          "Cameroon",
          "Cote d'Ivoire",
          "Finland",
          "Madagascar",
          "Zambia",
          "Senegal",
          "Sri Lanka",
          "Uganda",
          "Sudan",
          "Mozambique",
          "Namibia",
          "Angola",
          "Guinea",
          "Maldives",
          "Congo (Kinshasa)",
          "Tajikistan",
          "Cabo Verde",
          "Jamaica",
          "Latvia",
          "Haiti",
          "Gabon",
          "Zimbabwe",
          "Botswana",
          "Mauritania",
          "Malta",
          "Cuba",
          "Bahamas",
          "Estonia",
          "Syria",
          "Cyprus",
          "Eswatini",
          "Malawi",
          "Trinidad and Tobago",
          "Djibouti",
          "Andorra",
          "Congo (Brazzaville)",
          "Rwanda",
          "Suriname",
          "Iceland",
          "Equatorial Guinea",
          "Central African Republic",
          "Guyana",
          "Belize",
          "Nicaragua",
          "Somalia",
          "Thailand",
          "Uruguay",
          "Mali",
          "Gambia",
          "South Sudan",
          "Benin",
          "Togo",
          "Burkina Faso",
          "Guinea-Bissau",
          "Sierra Leone",
          "Yemen",
          "Lesotho",
          "New Zealand",
          "Chad",
          "Liberia",
          "Niger",
          "Vietnam",
          "San Marino",
          "Sao Tome and Principe",
          "Liechtenstein",
          "Diamond Princess",
          "Burundi",
          "Papua New Guinea",
          "Taiwan*",
          "Comoros",
          "Monaco",
          "Tanzania",
          "Eritrea",
          "Mauritius",
          "Mongolia",
          "Bhutan",
          "Cambodia",
          "Barbados",
          "Seychelles",
          "Brunei",
          "Saint Lucia",
          "Antigua and Barbuda",
          "Saint Vincent and the Grenadines",
          "Dominica",
          "Fiji",
          "Grenada",
          "Timor-Leste",
          "Holy See",
          "Laos",
          "Saint Kitts and Nevis",
          "Solomon Islands",
          "MS Zaandam",
          "Vanuatu",
          "Marshall Islands",
          "Palau",
          "Antarctica",
          "Summer Olympics 2020",
          "Kiribati",
          "Tuvalu",
          "Nauru",
          "Winter Olympics 2022",
          "Samoa",
          "Tonga",
          "Korea, North"
         ],
         "legendgroup": "",
         "locationmode": "country names",
         "locations": [
          "US",
          "India",
          "Brazil",
          "France",
          "Russia",
          "Spain",
          "United Kingdom",
          "Argentina",
          "Colombia",
          "Italy",
          "Mexico",
          "Peru",
          "South Africa",
          "Germany",
          "Iran",
          "Poland",
          "Chile",
          "Belgium",
          "Ukraine",
          "Iraq",
          "Indonesia",
          "Czechia",
          "Netherlands",
          "Bangladesh",
          "Turkey",
          "Philippines",
          "Pakistan",
          "Saudi Arabia",
          "Romania",
          "Israel",
          "Canada",
          "Morocco",
          "Switzerland",
          "Nepal",
          "Portugal",
          "Ecuador",
          "Austria",
          "Sweden",
          "Kazakhstan",
          "United Arab Emirates",
          "Panama",
          "Bolivia",
          "Qatar",
          "Kuwait",
          "Jordan",
          "Dominican Republic",
          "Hungary",
          "Costa Rica",
          "Oman",
          "Japan",
          "Guatemala",
          "Armenia",
          "Belarus",
          "Egypt",
          "Honduras",
          "Ethiopia",
          "Lebanon",
          "China",
          "Venezuela",
          "Bulgaria",
          "Slovakia",
          "Moldova",
          "Bahrain",
          "Tunisia",
          "Croatia",
          "Serbia",
          "Libya",
          "Azerbaijan",
          "Georgia",
          "Paraguay",
          "Uzbekistan",
          "Bosnia and Herzegovina",
          "Kenya",
          "Greece",
          "Ireland",
          "Burma",
          "Algeria",
          "Kyrgyzstan",
          "Nigeria",
          "West Bank and Gaza",
          "Denmark",
          "Singapore",
          "Slovenia",
          "Ghana",
          "North Macedonia",
          "Malaysia",
          "Afghanistan",
          "El Salvador",
          "Lithuania",
          "Korea, South",
          "Australia",
          "Norway",
          "Kosovo",
          "Albania",
          "Montenegro",
          "Luxembourg",
          "Cameroon",
          "Cote d'Ivoire",
          "Finland",
          "Madagascar",
          "Zambia",
          "Senegal",
          "Sri Lanka",
          "Uganda",
          "Sudan",
          "Mozambique",
          "Namibia",
          "Angola",
          "Guinea",
          "Maldives",
          "Congo (Kinshasa)",
          "Tajikistan",
          "Cabo Verde",
          "Jamaica",
          "Latvia",
          "Haiti",
          "Gabon",
          "Zimbabwe",
          "Botswana",
          "Mauritania",
          "Malta",
          "Cuba",
          "Bahamas",
          "Estonia",
          "Syria",
          "Cyprus",
          "Eswatini",
          "Malawi",
          "Trinidad and Tobago",
          "Djibouti",
          "Andorra",
          "Congo (Brazzaville)",
          "Rwanda",
          "Suriname",
          "Iceland",
          "Equatorial Guinea",
          "Central African Republic",
          "Guyana",
          "Belize",
          "Nicaragua",
          "Somalia",
          "Thailand",
          "Uruguay",
          "Mali",
          "Gambia",
          "South Sudan",
          "Benin",
          "Togo",
          "Burkina Faso",
          "Guinea-Bissau",
          "Sierra Leone",
          "Yemen",
          "Lesotho",
          "New Zealand",
          "Chad",
          "Liberia",
          "Niger",
          "Vietnam",
          "San Marino",
          "Sao Tome and Principe",
          "Liechtenstein",
          "Diamond Princess",
          "Burundi",
          "Papua New Guinea",
          "Taiwan*",
          "Comoros",
          "Monaco",
          "Tanzania",
          "Eritrea",
          "Mauritius",
          "Mongolia",
          "Bhutan",
          "Cambodia",
          "Barbados",
          "Seychelles",
          "Brunei",
          "Saint Lucia",
          "Antigua and Barbuda",
          "Saint Vincent and the Grenadines",
          "Dominica",
          "Fiji",
          "Grenada",
          "Timor-Leste",
          "Holy See",
          "Laos",
          "Saint Kitts and Nevis",
          "Solomon Islands",
          "MS Zaandam",
          "Vanuatu",
          "Marshall Islands",
          "Palau",
          "Antarctica",
          "Summer Olympics 2020",
          "Kiribati",
          "Tuvalu",
          "Nauru",
          "Winter Olympics 2022",
          "Samoa",
          "Tonga",
          "Korea, North"
         ],
         "marker": {
          "color": [
           10641054,
           8728795,
           5786393,
           1950135,
           1843678,
           1437220,
           1293684,
           1284519,
           1174012,
           1066401,
           991835,
           928006,
           744732,
           738178,
           726585,
           641496,
           526438,
           520393,
           515755,
           511806,
           452291,
           446675,
           437376,
           427198,
           404894,
           402820,
           352296,
           352160,
           334236,
           322410,
           287419,
           276821,
           250396,
           204242,
           198011,
           177513,
           174910,
           171365,
           158036,
           146735,
           143352,
           142889,
           135132,
           134932,
           132086,
           131636,
           126790,
           120939,
           119442,
           113652,
           113543,
           112680,
           110455,
           110095,
           101468,
           101248,
           100703,
           97980,
           96140,
           90725,
           89237,
           86038,
           84192,
           76106,
           75922,
           73765,
           71804,
           70216,
           69681,
           69653,
           69560,
           68293,
           66723,
           66637,
           66632,
           65598,
           65108,
           64887,
           64728,
           60784,
           59478,
           58102,
           50870,
           49957,
           43835,
           43791,
           42609,
           36030,
           30485,
           28133,
           27676,
           27228,
           26888,
           26211,
           25509,
           25218,
           22490,
           20882,
           18906,
           17223,
           17056,
           15744,
           15723,
           15217,
           14401,
           14094,
           13345,
           13053,
           12537,
           12085,
           11692,
           11456,
           9694,
           9634,
           9381,
           9152,
           9048,
           8696,
           8225,
           7900,
           7646,
           7487,
           7124,
           6881,
           6486,
           6461,
           6060,
           5958,
           5930,
           5641,
           5616,
           5379,
           5319,
           5261,
           5160,
           5104,
           4888,
           4662,
           4596,
           4533,
           4301,
           3852,
           3795,
           3792,
           3697,
           2960,
           2844,
           2605,
           2586,
           2419,
           2387,
           2068,
           2026,
           1995,
           1578,
           1461,
           1282,
           1253,
           1190,
           963,
           947,
           712,
           623,
           599,
           589,
           574,
           532,
           509,
           493,
           467,
           382,
           369,
           301,
           249,
           158,
           148,
           148,
           131,
           77,
           68,
           35,
           32,
           30,
           27,
           24,
           19,
           16,
           9,
           1,
           1,
           0,
           0,
           0,
           0,
           0,
           0,
           0,
           0,
           0,
           0
          ],
          "coloraxis": "coloraxis",
          "size": [
           10641054,
           8728795,
           5786393,
           1950135,
           1843678,
           1437220,
           1293684,
           1284519,
           1174012,
           1066401,
           991835,
           928006,
           744732,
           738178,
           726585,
           641496,
           526438,
           520393,
           515755,
           511806,
           452291,
           446675,
           437376,
           427198,
           404894,
           402820,
           352296,
           352160,
           334236,
           322410,
           287419,
           276821,
           250396,
           204242,
           198011,
           177513,
           174910,
           171365,
           158036,
           146735,
           143352,
           142889,
           135132,
           134932,
           132086,
           131636,
           126790,
           120939,
           119442,
           113652,
           113543,
           112680,
           110455,
           110095,
           101468,
           101248,
           100703,
           97980,
           96140,
           90725,
           89237,
           86038,
           84192,
           76106,
           75922,
           73765,
           71804,
           70216,
           69681,
           69653,
           69560,
           68293,
           66723,
           66637,
           66632,
           65598,
           65108,
           64887,
           64728,
           60784,
           59478,
           58102,
           50870,
           49957,
           43835,
           43791,
           42609,
           36030,
           30485,
           28133,
           27676,
           27228,
           26888,
           26211,
           25509,
           25218,
           22490,
           20882,
           18906,
           17223,
           17056,
           15744,
           15723,
           15217,
           14401,
           14094,
           13345,
           13053,
           12537,
           12085,
           11692,
           11456,
           9694,
           9634,
           9381,
           9152,
           9048,
           8696,
           8225,
           7900,
           7646,
           7487,
           7124,
           6881,
           6486,
           6461,
           6060,
           5958,
           5930,
           5641,
           5616,
           5379,
           5319,
           5261,
           5160,
           5104,
           4888,
           4662,
           4596,
           4533,
           4301,
           3852,
           3795,
           3792,
           3697,
           2960,
           2844,
           2605,
           2586,
           2419,
           2387,
           2068,
           2026,
           1995,
           1578,
           1461,
           1282,
           1253,
           1190,
           963,
           947,
           712,
           623,
           599,
           589,
           574,
           532,
           509,
           493,
           467,
           382,
           369,
           301,
           249,
           158,
           148,
           148,
           131,
           77,
           68,
           35,
           32,
           30,
           27,
           24,
           19,
           16,
           9,
           1,
           1,
           0,
           0,
           0,
           0,
           0,
           0,
           0,
           0,
           0,
           0
          ],
          "sizemode": "area",
          "sizeref": 6650.65875,
          "symbol": "circle"
         },
         "mode": "markers",
         "name": "",
         "showlegend": false,
         "type": "scattergeo"
        }
       ],
       "layout": {
        "autosize": true,
        "coloraxis": {
         "colorbar": {
          "title": {
           "text": "Confirmed"
          }
         },
         "colorscale": [
          [
           0,
           "#0d0887"
          ],
          [
           0.1111111111111111,
           "#46039f"
          ],
          [
           0.2222222222222222,
           "#7201a8"
          ],
          [
           0.3333333333333333,
           "#9c179e"
          ],
          [
           0.4444444444444444,
           "#bd3786"
          ],
          [
           0.5555555555555556,
           "#d8576b"
          ],
          [
           0.6666666666666666,
           "#ed7953"
          ],
          [
           0.7777777777777778,
           "#fb9f3a"
          ],
          [
           0.8888888888888888,
           "#fdca26"
          ],
          [
           1,
           "#f0f921"
          ]
         ]
        },
        "geo": {
         "center": {
          "lat": 11.332583857896347,
          "lon": 22.5062997177848
         },
         "domain": {
          "x": [
           0,
           1
          ],
          "y": [
           0,
           1
          ]
         },
         "projection": {
          "rotation": {
           "lon": 22.5062997177848
          },
          "scale": 1.148698354997035
         }
        },
        "legend": {
         "itemsizing": "constant",
         "tracegroupgap": 0
        },
        "margin": {
         "t": 60
        },
        "template": {
         "data": {
          "bar": [
           {
            "error_x": {
             "color": "#f2f5fa"
            },
            "error_y": {
             "color": "#f2f5fa"
            },
            "marker": {
             "line": {
              "color": "rgb(17,17,17)",
              "width": 0.5
             },
             "pattern": {
              "fillmode": "overlay",
              "size": 10,
              "solidity": 0.2
             }
            },
            "type": "bar"
           }
          ],
          "barpolar": [
           {
            "marker": {
             "line": {
              "color": "rgb(17,17,17)",
              "width": 0.5
             },
             "pattern": {
              "fillmode": "overlay",
              "size": 10,
              "solidity": 0.2
             }
            },
            "type": "barpolar"
           }
          ],
          "carpet": [
           {
            "aaxis": {
             "endlinecolor": "#A2B1C6",
             "gridcolor": "#506784",
             "linecolor": "#506784",
             "minorgridcolor": "#506784",
             "startlinecolor": "#A2B1C6"
            },
            "baxis": {
             "endlinecolor": "#A2B1C6",
             "gridcolor": "#506784",
             "linecolor": "#506784",
             "minorgridcolor": "#506784",
             "startlinecolor": "#A2B1C6"
            },
            "type": "carpet"
           }
          ],
          "choropleth": [
           {
            "colorbar": {
             "outlinewidth": 0,
             "ticks": ""
            },
            "type": "choropleth"
           }
          ],
          "contour": [
           {
            "colorbar": {
             "outlinewidth": 0,
             "ticks": ""
            },
            "colorscale": [
             [
              0,
              "#0d0887"
             ],
             [
              0.1111111111111111,
              "#46039f"
             ],
             [
              0.2222222222222222,
              "#7201a8"
             ],
             [
              0.3333333333333333,
              "#9c179e"
             ],
             [
              0.4444444444444444,
              "#bd3786"
             ],
             [
              0.5555555555555556,
              "#d8576b"
             ],
             [
              0.6666666666666666,
              "#ed7953"
             ],
             [
              0.7777777777777778,
              "#fb9f3a"
             ],
             [
              0.8888888888888888,
              "#fdca26"
             ],
             [
              1,
              "#f0f921"
             ]
            ],
            "type": "contour"
           }
          ],
          "contourcarpet": [
           {
            "colorbar": {
             "outlinewidth": 0,
             "ticks": ""
            },
            "type": "contourcarpet"
           }
          ],
          "heatmap": [
           {
            "colorbar": {
             "outlinewidth": 0,
             "ticks": ""
            },
            "colorscale": [
             [
              0,
              "#0d0887"
             ],
             [
              0.1111111111111111,
              "#46039f"
             ],
             [
              0.2222222222222222,
              "#7201a8"
             ],
             [
              0.3333333333333333,
              "#9c179e"
             ],
             [
              0.4444444444444444,
              "#bd3786"
             ],
             [
              0.5555555555555556,
              "#d8576b"
             ],
             [
              0.6666666666666666,
              "#ed7953"
             ],
             [
              0.7777777777777778,
              "#fb9f3a"
             ],
             [
              0.8888888888888888,
              "#fdca26"
             ],
             [
              1,
              "#f0f921"
             ]
            ],
            "type": "heatmap"
           }
          ],
          "heatmapgl": [
           {
            "colorbar": {
             "outlinewidth": 0,
             "ticks": ""
            },
            "colorscale": [
             [
              0,
              "#0d0887"
             ],
             [
              0.1111111111111111,
              "#46039f"
             ],
             [
              0.2222222222222222,
              "#7201a8"
             ],
             [
              0.3333333333333333,
              "#9c179e"
             ],
             [
              0.4444444444444444,
              "#bd3786"
             ],
             [
              0.5555555555555556,
              "#d8576b"
             ],
             [
              0.6666666666666666,
              "#ed7953"
             ],
             [
              0.7777777777777778,
              "#fb9f3a"
             ],
             [
              0.8888888888888888,
              "#fdca26"
             ],
             [
              1,
              "#f0f921"
             ]
            ],
            "type": "heatmapgl"
           }
          ],
          "histogram": [
           {
            "marker": {
             "pattern": {
              "fillmode": "overlay",
              "size": 10,
              "solidity": 0.2
             }
            },
            "type": "histogram"
           }
          ],
          "histogram2d": [
           {
            "colorbar": {
             "outlinewidth": 0,
             "ticks": ""
            },
            "colorscale": [
             [
              0,
              "#0d0887"
             ],
             [
              0.1111111111111111,
              "#46039f"
             ],
             [
              0.2222222222222222,
              "#7201a8"
             ],
             [
              0.3333333333333333,
              "#9c179e"
             ],
             [
              0.4444444444444444,
              "#bd3786"
             ],
             [
              0.5555555555555556,
              "#d8576b"
             ],
             [
              0.6666666666666666,
              "#ed7953"
             ],
             [
              0.7777777777777778,
              "#fb9f3a"
             ],
             [
              0.8888888888888888,
              "#fdca26"
             ],
             [
              1,
              "#f0f921"
             ]
            ],
            "type": "histogram2d"
           }
          ],
          "histogram2dcontour": [
           {
            "colorbar": {
             "outlinewidth": 0,
             "ticks": ""
            },
            "colorscale": [
             [
              0,
              "#0d0887"
             ],
             [
              0.1111111111111111,
              "#46039f"
             ],
             [
              0.2222222222222222,
              "#7201a8"
             ],
             [
              0.3333333333333333,
              "#9c179e"
             ],
             [
              0.4444444444444444,
              "#bd3786"
             ],
             [
              0.5555555555555556,
              "#d8576b"
             ],
             [
              0.6666666666666666,
              "#ed7953"
             ],
             [
              0.7777777777777778,
              "#fb9f3a"
             ],
             [
              0.8888888888888888,
              "#fdca26"
             ],
             [
              1,
              "#f0f921"
             ]
            ],
            "type": "histogram2dcontour"
           }
          ],
          "mesh3d": [
           {
            "colorbar": {
             "outlinewidth": 0,
             "ticks": ""
            },
            "type": "mesh3d"
           }
          ],
          "parcoords": [
           {
            "line": {
             "colorbar": {
              "outlinewidth": 0,
              "ticks": ""
             }
            },
            "type": "parcoords"
           }
          ],
          "pie": [
           {
            "automargin": true,
            "type": "pie"
           }
          ],
          "scatter": [
           {
            "marker": {
             "line": {
              "color": "#283442"
             }
            },
            "type": "scatter"
           }
          ],
          "scatter3d": [
           {
            "line": {
             "colorbar": {
              "outlinewidth": 0,
              "ticks": ""
             }
            },
            "marker": {
             "colorbar": {
              "outlinewidth": 0,
              "ticks": ""
             }
            },
            "type": "scatter3d"
           }
          ],
          "scattercarpet": [
           {
            "marker": {
             "colorbar": {
              "outlinewidth": 0,
              "ticks": ""
             }
            },
            "type": "scattercarpet"
           }
          ],
          "scattergeo": [
           {
            "marker": {
             "colorbar": {
              "outlinewidth": 0,
              "ticks": ""
             }
            },
            "type": "scattergeo"
           }
          ],
          "scattergl": [
           {
            "marker": {
             "line": {
              "color": "#283442"
             }
            },
            "type": "scattergl"
           }
          ],
          "scattermapbox": [
           {
            "marker": {
             "colorbar": {
              "outlinewidth": 0,
              "ticks": ""
             }
            },
            "type": "scattermapbox"
           }
          ],
          "scatterpolar": [
           {
            "marker": {
             "colorbar": {
              "outlinewidth": 0,
              "ticks": ""
             }
            },
            "type": "scatterpolar"
           }
          ],
          "scatterpolargl": [
           {
            "marker": {
             "colorbar": {
              "outlinewidth": 0,
              "ticks": ""
             }
            },
            "type": "scatterpolargl"
           }
          ],
          "scatterternary": [
           {
            "marker": {
             "colorbar": {
              "outlinewidth": 0,
              "ticks": ""
             }
            },
            "type": "scatterternary"
           }
          ],
          "surface": [
           {
            "colorbar": {
             "outlinewidth": 0,
             "ticks": ""
            },
            "colorscale": [
             [
              0,
              "#0d0887"
             ],
             [
              0.1111111111111111,
              "#46039f"
             ],
             [
              0.2222222222222222,
              "#7201a8"
             ],
             [
              0.3333333333333333,
              "#9c179e"
             ],
             [
              0.4444444444444444,
              "#bd3786"
             ],
             [
              0.5555555555555556,
              "#d8576b"
             ],
             [
              0.6666666666666666,
              "#ed7953"
             ],
             [
              0.7777777777777778,
              "#fb9f3a"
             ],
             [
              0.8888888888888888,
              "#fdca26"
             ],
             [
              1,
              "#f0f921"
             ]
            ],
            "type": "surface"
           }
          ],
          "table": [
           {
            "cells": {
             "fill": {
              "color": "#506784"
             },
             "line": {
              "color": "rgb(17,17,17)"
             }
            },
            "header": {
             "fill": {
              "color": "#2a3f5f"
             },
             "line": {
              "color": "rgb(17,17,17)"
             }
            },
            "type": "table"
           }
          ]
         },
         "layout": {
          "annotationdefaults": {
           "arrowcolor": "#f2f5fa",
           "arrowhead": 0,
           "arrowwidth": 1
          },
          "autotypenumbers": "strict",
          "coloraxis": {
           "colorbar": {
            "outlinewidth": 0,
            "ticks": ""
           }
          },
          "colorscale": {
           "diverging": [
            [
             0,
             "#8e0152"
            ],
            [
             0.1,
             "#c51b7d"
            ],
            [
             0.2,
             "#de77ae"
            ],
            [
             0.3,
             "#f1b6da"
            ],
            [
             0.4,
             "#fde0ef"
            ],
            [
             0.5,
             "#f7f7f7"
            ],
            [
             0.6,
             "#e6f5d0"
            ],
            [
             0.7,
             "#b8e186"
            ],
            [
             0.8,
             "#7fbc41"
            ],
            [
             0.9,
             "#4d9221"
            ],
            [
             1,
             "#276419"
            ]
           ],
           "sequential": [
            [
             0,
             "#0d0887"
            ],
            [
             0.1111111111111111,
             "#46039f"
            ],
            [
             0.2222222222222222,
             "#7201a8"
            ],
            [
             0.3333333333333333,
             "#9c179e"
            ],
            [
             0.4444444444444444,
             "#bd3786"
            ],
            [
             0.5555555555555556,
             "#d8576b"
            ],
            [
             0.6666666666666666,
             "#ed7953"
            ],
            [
             0.7777777777777778,
             "#fb9f3a"
            ],
            [
             0.8888888888888888,
             "#fdca26"
            ],
            [
             1,
             "#f0f921"
            ]
           ],
           "sequentialminus": [
            [
             0,
             "#0d0887"
            ],
            [
             0.1111111111111111,
             "#46039f"
            ],
            [
             0.2222222222222222,
             "#7201a8"
            ],
            [
             0.3333333333333333,
             "#9c179e"
            ],
            [
             0.4444444444444444,
             "#bd3786"
            ],
            [
             0.5555555555555556,
             "#d8576b"
            ],
            [
             0.6666666666666666,
             "#ed7953"
            ],
            [
             0.7777777777777778,
             "#fb9f3a"
            ],
            [
             0.8888888888888888,
             "#fdca26"
            ],
            [
             1,
             "#f0f921"
            ]
           ]
          },
          "colorway": [
           "#636efa",
           "#EF553B",
           "#00cc96",
           "#ab63fa",
           "#FFA15A",
           "#19d3f3",
           "#FF6692",
           "#B6E880",
           "#FF97FF",
           "#FECB52"
          ],
          "font": {
           "color": "#f2f5fa"
          },
          "geo": {
           "bgcolor": "rgb(17,17,17)",
           "lakecolor": "rgb(17,17,17)",
           "landcolor": "rgb(17,17,17)",
           "showlakes": true,
           "showland": true,
           "subunitcolor": "#506784"
          },
          "hoverlabel": {
           "align": "left"
          },
          "hovermode": "closest",
          "mapbox": {
           "style": "dark"
          },
          "paper_bgcolor": "rgb(17,17,17)",
          "plot_bgcolor": "rgb(17,17,17)",
          "polar": {
           "angularaxis": {
            "gridcolor": "#506784",
            "linecolor": "#506784",
            "ticks": ""
           },
           "bgcolor": "rgb(17,17,17)",
           "radialaxis": {
            "gridcolor": "#506784",
            "linecolor": "#506784",
            "ticks": ""
           }
          },
          "scene": {
           "xaxis": {
            "backgroundcolor": "rgb(17,17,17)",
            "gridcolor": "#506784",
            "gridwidth": 2,
            "linecolor": "#506784",
            "showbackground": true,
            "ticks": "",
            "zerolinecolor": "#C8D4E3"
           },
           "yaxis": {
            "backgroundcolor": "rgb(17,17,17)",
            "gridcolor": "#506784",
            "gridwidth": 2,
            "linecolor": "#506784",
            "showbackground": true,
            "ticks": "",
            "zerolinecolor": "#C8D4E3"
           },
           "zaxis": {
            "backgroundcolor": "rgb(17,17,17)",
            "gridcolor": "#506784",
            "gridwidth": 2,
            "linecolor": "#506784",
            "showbackground": true,
            "ticks": "",
            "zerolinecolor": "#C8D4E3"
           }
          },
          "shapedefaults": {
           "line": {
            "color": "#f2f5fa"
           }
          },
          "sliderdefaults": {
           "bgcolor": "#C8D4E3",
           "bordercolor": "rgb(17,17,17)",
           "borderwidth": 1,
           "tickwidth": 0
          },
          "ternary": {
           "aaxis": {
            "gridcolor": "#506784",
            "linecolor": "#506784",
            "ticks": ""
           },
           "baxis": {
            "gridcolor": "#506784",
            "linecolor": "#506784",
            "ticks": ""
           },
           "bgcolor": "rgb(17,17,17)",
           "caxis": {
            "gridcolor": "#506784",
            "linecolor": "#506784",
            "ticks": ""
           }
          },
          "title": {
           "x": 0.05
          },
          "updatemenudefaults": {
           "bgcolor": "#506784",
           "borderwidth": 0
          },
          "xaxis": {
           "automargin": true,
           "gridcolor": "#283442",
           "linecolor": "#506784",
           "ticks": "",
           "title": {
            "standoff": 15
           },
           "zerolinecolor": "#283442",
           "zerolinewidth": 2
          },
          "yaxis": {
           "automargin": true,
           "gridcolor": "#283442",
           "linecolor": "#506784",
           "ticks": "",
           "title": {
            "standoff": 15
           },
           "zerolinecolor": "#283442",
           "zerolinewidth": 2
          }
         }
        }
       }
      },
      "image/png": "[encoded data removed]",
      "text/html": [
       "<div>                            <div id=\"c60d1b15-8fa7-49d9-9ade-f407ba805fad\" class=\"plotly-graph-div\" style=\"height:525px; width:100%;\"></div>            <script type=\"text/javascript\">                require([\"plotly\"], function(Plotly) {                    window.PLOTLYENV=window.PLOTLYENV || {};                                    if (document.getElementById(\"c60d1b15-8fa7-49d9-9ade-f407ba805fad\")) {                    Plotly.newPlot(                        \"c60d1b15-8fa7-49d9-9ade-f407ba805fad\",                        [{\"customdata\":[[10641054,4051256,243556,\"US\"],[8728795,8115580,128668,\"India\"],[5786393,5254457,164429,\"Brazil\"],[1950135,140470,43024,\"France\"],[1843678,1378463,31755,\"Russia\"],[1437220,150376,40461,\"Spain\"],[1293684,3033,69121,\"United Kingdom\"],[1284519,1100180,34782,\"Argentina\"],[1174012,1081691,33491,\"Colombia\"],[1066401,387758,43589,\"Italy\"],[991835,736197,97056,\"Mexico\"],[928006,853208,87738,\"Peru\"],[744732,690903,20076,\"South Africa\"],[738178,474208,11982,\"Germany\"],[726585,541566,40121,\"Iran\"],[641496,254349,9080,\"Poland\"],[526438,502475,14699,\"Chile\"],[520393,0,13891,\"Belgium\"],[515755,237399,9422,\"Ukraine\"],[511806,439228,11532,\"Iraq\"],[452291,382084,14933,\"Indonesia\"],[446675,300719,5755,\"Czechia\"],[437376,6372,8375,\"Netherlands\"],[427198,344868,6140,\"Bangladesh\"],[404894,346794,11233,\"Turkey\"],[402820,362417,7721,\"Philippines\"],[352296,321563,7092,\"Pakistan\"],[352160,339114,5605,\"Saudi Arabia\"],[334236,224916,8510,\"Romania\"],[322410,310494,2718,\"Israel\"],[287419,230429,10846,\"Canada\"],[276821,226040,4570,\"Morocco\"],[250396,141000,3392,\"Switzerland\"],[204242,164592,1189,\"Nepal\"],[198011,113689,3181,\"Portugal\"],[177513,154956,12946,\"Ecuador\"],[174910,107875,2108,\"Austria\"],[171365,0,6122,\"Sweden\"],[158036,138309,2306,\"Kazakhstan\"],[146735,141215,523,\"United Arab Emirates\"],[143352,122070,2830,\"Panama\"],[142889,116137,8825,\"Bolivia\"],[135132,132153,234,\"Qatar\"],[134932,125593,830,\"Kuwait\"],[132086,9564,1547,\"Jordan\"],[131636,109135,2274,\"Dominican Republic\"],[126790,29302,2784,\"Hungary\"],[120939,74255,1527,\"Costa Rica\"],[119442,110050,1326,\"Oman\"],[113652,99282,1873,\"Japan\"],[113543,103174,3858,\"Guatemala\"],[112680,70130,1668,\"Armenia\"],[110455,92843,1027,\"Belarus\"],[110095,100760,6417,\"Egypt\"],[101468,44068,2804,\"Honduras\"],[101248,63268,1554,\"Ethiopia\"],[100703,55706,775,\"Lebanon\"],[97980,86488,4742,\"China\"],[96140,91141,841,\"Venezuela\"],[90725,27587,1970,\"Bulgaria\"],[89237,24314,464,\"Slovakia\"],[86038,67270,1969,\"Moldova\"],[84192,81846,332,\"Bahrain\"],[76106,51807,2151,\"Tunisia\"],[75922,58649,925,\"Croatia\"],[73765,0,955,\"Serbia\"],[71804,42703,985,\"Libya\"],[70216,51986,905,\"Azerbaijan\"],[69681,52169,599,\"Georgia\"],[69653,50045,1543,\"Paraguay\"],[69560,66814,593,\"Uzbekistan\"],[68293,33690,1750,\"Bosnia and Herzegovina\"],[66723,44040,1203,\"Kenya\"],[66637,23074,959,\"Greece\"],[66632,23364,1965,\"Ireland\"],[65598,49563,1508,\"Burma\"],[65108,42980,2111,\"Algeria\"],[64887,55824,1193,\"Kyrgyzstan\"],[64728,60790,1162,\"Nigeria\"],[60784,52861,542,\"West Bank and Gaza\"],[59478,45204,755,\"Denmark\"],[58102,58002,28,\"Singapore\"],[50870,30027,686,\"Slovenia\"],[49957,48096,320,\"Ghana\"],[43835,25782,1238,\"North Macedonia\"],[43791,32068,303,\"Malaysia\"],[42609,35024,1581,\"Afghanistan\"],[36030,32246,1028,\"El Salvador\"],[30485,10000,250,\"Lithuania\"],[28133,25537,488,\"Korea, South\"],[27676,22303,907,\"Australia\"],[27228,11863,291,\"Norway\"],[26888,16685,785,\"Kosovo\"],[26211,12574,598,\"Albania\"],[25509,16788,364,\"Montenegro\"],[25218,14798,211,\"Luxembourg\"],[22490,21510,433,\"Cameroon\"],[20882,20584,127,\"Cote d'Ivoire\"],[18906,14000,365,\"Finland\"],[17223,16516,249,\"Madagascar\"],[17056,16102,350,\"Zambia\"],[15744,15386,326,\"Senegal\"],[15723,10653,48,\"Sri Lanka\"],[15217,7985,143,\"Uganda\"],[14401,9535,1116,\"Sudan\"],[14094,12134,104,\"Mozambique\"],[13345,12188,135,\"Namibia\"],[13053,6250,315,\"Angola\"],[12537,10899,74,\"Guinea\"],[12085,11225,41,\"Maldives\"],[11692,10983,318,\"Congo (Kinshasa)\"],[11456,10853,84,\"Tajikistan\"],[9694,9004,102,\"Cabo Verde\"],[9634,5043,225,\"Jamaica\"],[9381,1515,107,\"Latvia\"],[9152,7701,232,\"Haiti\"],[9048,8922,57,\"Gabon\"],[8696,8060,255,\"Zimbabwe\"],[8225,5559,27,\"Botswana\"],[7900,7500,165,\"Mauritania\"],[7646,5479,88,\"Malta\"],[7487,6924,131,\"Cuba\"],[7124,5192,155,\"Bahamas\"],[6881,4453,76,\"Estonia\"],[6486,2558,333,\"Syria\"],[6461,1882,32,\"Cyprus\"],[6060,5746,117,\"Eswatini\"],[5958,5369,185,\"Malawi\"],[5930,5317,111,\"Trinidad and Tobago\"],[5641,5509,61,\"Djibouti\"],[5616,4585,75,\"Andorra\"],[5379,3887,92,\"Congo (Brazzaville)\"],[5319,4974,41,\"Rwanda\"],[5261,5126,114,\"Suriname\"],[5160,4663,25,\"Iceland\"],[5104,4973,85,\"Equatorial Guinea\"],[4888,1924,62,\"Central African Republic\"],[4662,3616,138,\"Guyana\"],[4596,2513,75,\"Belize\"],[4533,4225,158,\"Nicaragua\"],[4301,3330,107,\"Somalia\"],[3852,3697,60,\"Thailand\"],[3795,3103,63,\"Uruguay\"],[3792,2923,138,\"Mali\"],[3697,3556,122,\"Gambia\"],[2960,1290,59,\"South Sudan\"],[2844,2515,43,\"Benin\"],[2605,1815,60,\"Togo\"],[2586,2411,67,\"Burkina Faso\"],[2419,2255,43,\"Guinea-Bissau\"],[2387,1816,74,\"Sierra Leone\"],[2068,1378,602,\"Yemen\"],[2026,1029,44,\"Lesotho\"],[1995,1917,26,\"New Zealand\"],[1578,1428,100,\"Chad\"],[1461,1312,82,\"Liberia\"],[1282,1144,69,\"Niger\"],[1253,1093,35,\"Vietnam\"],[1190,857,42,\"San Marino\"],[963,914,16,\"Sao Tome and Principe\"],[947,656,4,\"Liechtenstein\"],[712,659,13,\"Diamond Princess\"],[623,549,1,\"Burundi\"],[599,586,7,\"Papua New Guinea\"],[589,532,7,\"Taiwan*\"],[574,542,7,\"Comoros\"],[532,408,2,\"Monaco\"],[509,183,21,\"Tanzania\"],[493,444,0,\"Eritrea\"],[467,427,10,\"Mauritius\"],[382,317,0,\"Mongolia\"],[369,345,0,\"Bhutan\"],[301,288,0,\"Cambodia\"],[249,233,7,\"Barbados\"],[158,157,0,\"Seychelles\"],[148,145,3,\"Brunei\"],[148,46,2,\"Saint Lucia\"],[131,124,3,\"Antigua and Barbuda\"],[77,74,0,\"Saint Vincent and the Grenadines\"],[68,41,0,\"Dominica\"],[35,32,2,\"Fiji\"],[32,27,0,\"Grenada\"],[30,29,0,\"Timor-Leste\"],[27,15,0,\"Holy See\"],[24,23,0,\"Laos\"],[19,19,0,\"Saint Kitts and Nevis\"],[16,5,0,\"Solomon Islands\"],[9,0,2,\"MS Zaandam\"],[1,0,0,\"Vanuatu\"],[1,0,0,\"Marshall Islands\"],[0,0,0,\"Palau\"],[0,0,0,\"Antarctica\"],[0,0,0,\"Summer Olympics 2020\"],[0,0,0,\"Kiribati\"],[0,0,0,\"Tuvalu\"],[0,0,0,\"Nauru\"],[0,0,0,\"Winter Olympics 2022\"],[0,0,0,\"Samoa\"],[0,0,0,\"Tonga\"],[0,0,0,\"Korea, North\"]],\"geo\":\"geo\",\"hovertemplate\":\"\\u003cb\\u003e%{hovertext}\\u003c\\u002fb\\u003e\\u003cbr\\u003e\\u003cbr\\u003eConfirmed=%{marker.color:,.2f}\\u003cbr\\u003eRecovered=%{customdata[1]:,.2f}\\u003cbr\\u003eDeaths=%{customdata[2]:,.2f}\\u003cextra\\u003e\\u003c\\u002fextra\\u003e\",\"hovertext\":[\"US\",\"India\",\"Brazil\",\"France\",\"Russia\",\"Spain\",\"United Kingdom\",\"Argentina\",\"Colombia\",\"Italy\",\"Mexico\",\"Peru\",\"South Africa\",\"Germany\",\"Iran\",\"Poland\",\"Chile\",\"Belgium\",\"Ukraine\",\"Iraq\",\"Indonesia\",\"Czechia\",\"Netherlands\",\"Bangladesh\",\"Turkey\",\"Philippines\",\"Pakistan\",\"Saudi Arabia\",\"Romania\",\"Israel\",\"Canada\",\"Morocco\",\"Switzerland\",\"Nepal\",\"Portugal\",\"Ecuador\",\"Austria\",\"Sweden\",\"Kazakhstan\",\"United Arab Emirates\",\"Panama\",\"Bolivia\",\"Qatar\",\"Kuwait\",\"Jordan\",\"Dominican Republic\",\"Hungary\",\"Costa Rica\",\"Oman\",\"Japan\",\"Guatemala\",\"Armenia\",\"Belarus\",\"Egypt\",\"Honduras\",\"Ethiopia\",\"Lebanon\",\"China\",\"Venezuela\",\"Bulgaria\",\"Slovakia\",\"Moldova\",\"Bahrain\",\"Tunisia\",\"Croatia\",\"Serbia\",\"Libya\",\"Azerbaijan\",\"Georgia\",\"Paraguay\",\"Uzbekistan\",\"Bosnia and Herzegovina\",\"Kenya\",\"Greece\",\"Ireland\",\"Burma\",\"Algeria\",\"Kyrgyzstan\",\"Nigeria\",\"West Bank and Gaza\",\"Denmark\",\"Singapore\",\"Slovenia\",\"Ghana\",\"North Macedonia\",\"Malaysia\",\"Afghanistan\",\"El Salvador\",\"Lithuania\",\"Korea, South\",\"Australia\",\"Norway\",\"Kosovo\",\"Albania\",\"Montenegro\",\"Luxembourg\",\"Cameroon\",\"Cote d'Ivoire\",\"Finland\",\"Madagascar\",\"Zambia\",\"Senegal\",\"Sri Lanka\",\"Uganda\",\"Sudan\",\"Mozambique\",\"Namibia\",\"Angola\",\"Guinea\",\"Maldives\",\"Congo (Kinshasa)\",\"Tajikistan\",\"Cabo Verde\",\"Jamaica\",\"Latvia\",\"Haiti\",\"Gabon\",\"Zimbabwe\",\"Botswana\",\"Mauritania\",\"Malta\",\"Cuba\",\"Bahamas\",\"Estonia\",\"Syria\",\"Cyprus\",\"Eswatini\",\"Malawi\",\"Trinidad and Tobago\",\"Djibouti\",\"Andorra\",\"Congo (Brazzaville)\",\"Rwanda\",\"Suriname\",\"Iceland\",\"Equatorial Guinea\",\"Central African Republic\",\"Guyana\",\"Belize\",\"Nicaragua\",\"Somalia\",\"Thailand\",\"Uruguay\",\"Mali\",\"Gambia\",\"South Sudan\",\"Benin\",\"Togo\",\"Burkina Faso\",\"Guinea-Bissau\",\"Sierra Leone\",\"Yemen\",\"Lesotho\",\"New Zealand\",\"Chad\",\"Liberia\",\"Niger\",\"Vietnam\",\"San Marino\",\"Sao Tome and Principe\",\"Liechtenstein\",\"Diamond Princess\",\"Burundi\",\"Papua New Guinea\",\"Taiwan*\",\"Comoros\",\"Monaco\",\"Tanzania\",\"Eritrea\",\"Mauritius\",\"Mongolia\",\"Bhutan\",\"Cambodia\",\"Barbados\",\"Seychelles\",\"Brunei\",\"Saint Lucia\",\"Antigua and Barbuda\",\"Saint Vincent and the Grenadines\",\"Dominica\",\"Fiji\",\"Grenada\",\"Timor-Leste\",\"Holy See\",\"Laos\",\"Saint Kitts and Nevis\",\"Solomon Islands\",\"MS Zaandam\",\"Vanuatu\",\"Marshall Islands\",\"Palau\",\"Antarctica\",\"Summer Olympics 2020\",\"Kiribati\",\"Tuvalu\",\"Nauru\",\"Winter Olympics 2022\",\"Samoa\",\"Tonga\",\"Korea, North\"],\"legendgroup\":\"\",\"locationmode\":\"country names\",\"locations\":[\"US\",\"India\",\"Brazil\",\"France\",\"Russia\",\"Spain\",\"United Kingdom\",\"Argentina\",\"Colombia\",\"Italy\",\"Mexico\",\"Peru\",\"South Africa\",\"Germany\",\"Iran\",\"Poland\",\"Chile\",\"Belgium\",\"Ukraine\",\"Iraq\",\"Indonesia\",\"Czechia\",\"Netherlands\",\"Bangladesh\",\"Turkey\",\"Philippines\",\"Pakistan\",\"Saudi Arabia\",\"Romania\",\"Israel\",\"Canada\",\"Morocco\",\"Switzerland\",\"Nepal\",\"Portugal\",\"Ecuador\",\"Austria\",\"Sweden\",\"Kazakhstan\",\"United Arab Emirates\",\"Panama\",\"Bolivia\",\"Qatar\",\"Kuwait\",\"Jordan\",\"Dominican Republic\",\"Hungary\",\"Costa Rica\",\"Oman\",\"Japan\",\"Guatemala\",\"Armenia\",\"Belarus\",\"Egypt\",\"Honduras\",\"Ethiopia\",\"Lebanon\",\"China\",\"Venezuela\",\"Bulgaria\",\"Slovakia\",\"Moldova\",\"Bahrain\",\"Tunisia\",\"Croatia\",\"Serbia\",\"Libya\",\"Azerbaijan\",\"Georgia\",\"Paraguay\",\"Uzbekistan\",\"Bosnia and Herzegovina\",\"Kenya\",\"Greece\",\"Ireland\",\"Burma\",\"Algeria\",\"Kyrgyzstan\",\"Nigeria\",\"West Bank and Gaza\",\"Denmark\",\"Singapore\",\"Slovenia\",\"Ghana\",\"North Macedonia\",\"Malaysia\",\"Afghanistan\",\"El Salvador\",\"Lithuania\",\"Korea, South\",\"Australia\",\"Norway\",\"Kosovo\",\"Albania\",\"Montenegro\",\"Luxembourg\",\"Cameroon\",\"Cote d'Ivoire\",\"Finland\",\"Madagascar\",\"Zambia\",\"Senegal\",\"Sri Lanka\",\"Uganda\",\"Sudan\",\"Mozambique\",\"Namibia\",\"Angola\",\"Guinea\",\"Maldives\",\"Congo (Kinshasa)\",\"Tajikistan\",\"Cabo Verde\",\"Jamaica\",\"Latvia\",\"Haiti\",\"Gabon\",\"Zimbabwe\",\"Botswana\",\"Mauritania\",\"Malta\",\"Cuba\",\"Bahamas\",\"Estonia\",\"Syria\",\"Cyprus\",\"Eswatini\",\"Malawi\",\"Trinidad and Tobago\",\"Djibouti\",\"Andorra\",\"Congo (Brazzaville)\",\"Rwanda\",\"Suriname\",\"Iceland\",\"Equatorial Guinea\",\"Central African Republic\",\"Guyana\",\"Belize\",\"Nicaragua\",\"Somalia\",\"Thailand\",\"Uruguay\",\"Mali\",\"Gambia\",\"South Sudan\",\"Benin\",\"Togo\",\"Burkina Faso\",\"Guinea-Bissau\",\"Sierra Leone\",\"Yemen\",\"Lesotho\",\"New Zealand\",\"Chad\",\"Liberia\",\"Niger\",\"Vietnam\",\"San Marino\",\"Sao Tome and Principe\",\"Liechtenstein\",\"Diamond Princess\",\"Burundi\",\"Papua New Guinea\",\"Taiwan*\",\"Comoros\",\"Monaco\",\"Tanzania\",\"Eritrea\",\"Mauritius\",\"Mongolia\",\"Bhutan\",\"Cambodia\",\"Barbados\",\"Seychelles\",\"Brunei\",\"Saint Lucia\",\"Antigua and Barbuda\",\"Saint Vincent and the Grenadines\",\"Dominica\",\"Fiji\",\"Grenada\",\"Timor-Leste\",\"Holy See\",\"Laos\",\"Saint Kitts and Nevis\",\"Solomon Islands\",\"MS Zaandam\",\"Vanuatu\",\"Marshall Islands\",\"Palau\",\"Antarctica\",\"Summer Olympics 2020\",\"Kiribati\",\"Tuvalu\",\"Nauru\",\"Winter Olympics 2022\",\"Samoa\",\"Tonga\",\"Korea, North\"],\"marker\":{\"color\":[10641054,8728795,5786393,1950135,1843678,1437220,1293684,1284519,1174012,1066401,991835,928006,744732,738178,726585,641496,526438,520393,515755,511806,452291,446675,437376,427198,404894,402820,352296,352160,334236,322410,287419,276821,250396,204242,198011,177513,174910,171365,158036,146735,143352,142889,135132,134932,132086,131636,126790,120939,119442,113652,113543,112680,110455,110095,101468,101248,100703,97980,96140,90725,89237,86038,84192,76106,75922,73765,71804,70216,69681,69653,69560,68293,66723,66637,66632,65598,65108,64887,64728,60784,59478,58102,50870,49957,43835,43791,42609,36030,30485,28133,27676,27228,26888,26211,25509,25218,22490,20882,18906,17223,17056,15744,15723,15217,14401,14094,13345,13053,12537,12085,11692,11456,9694,9634,9381,9152,9048,8696,8225,7900,7646,7487,7124,6881,6486,6461,6060,5958,5930,5641,5616,5379,5319,5261,5160,5104,4888,4662,4596,4533,4301,3852,3795,3792,3697,2960,2844,2605,2586,2419,2387,2068,2026,1995,1578,1461,1282,1253,1190,963,947,712,623,599,589,574,532,509,493,467,382,369,301,249,158,148,148,131,77,68,35,32,30,27,24,19,16,9,1,1,0,0,0,0,0,0,0,0,0,0],\"coloraxis\":\"coloraxis\",\"size\":[10641054,8728795,5786393,1950135,1843678,1437220,1293684,1284519,1174012,1066401,991835,928006,744732,738178,726585,641496,526438,520393,515755,511806,452291,446675,437376,427198,404894,402820,352296,352160,334236,322410,287419,276821,250396,204242,198011,177513,174910,171365,158036,146735,143352,142889,135132,134932,132086,131636,126790,120939,119442,113652,113543,112680,110455,110095,101468,101248,100703,97980,96140,90725,89237,86038,84192,76106,75922,73765,71804,70216,69681,69653,69560,68293,66723,66637,66632,65598,65108,64887,64728,60784,59478,58102,50870,49957,43835,43791,42609,36030,30485,28133,27676,27228,26888,26211,25509,25218,22490,20882,18906,17223,17056,15744,15723,15217,14401,14094,13345,13053,12537,12085,11692,11456,9694,9634,9381,9152,9048,8696,8225,7900,7646,7487,7124,6881,6486,6461,6060,5958,5930,5641,5616,5379,5319,5261,5160,5104,4888,4662,4596,4533,4301,3852,3795,3792,3697,2960,2844,2605,2586,2419,2387,2068,2026,1995,1578,1461,1282,1253,1190,963,947,712,623,599,589,574,532,509,493,467,382,369,301,249,158,148,148,131,77,68,35,32,30,27,24,19,16,9,1,1,0,0,0,0,0,0,0,0,0,0],\"sizemode\":\"area\",\"sizeref\":6650.65875,\"symbol\":\"circle\"},\"mode\":\"markers\",\"name\":\"\",\"showlegend\":false,\"type\":\"scattergeo\"}],                        {\"template\":{\"data\":{\"barpolar\":[{\"marker\":{\"line\":{\"color\":\"rgb(17,17,17)\",\"width\":0.5},\"pattern\":{\"fillmode\":\"overlay\",\"size\":10,\"solidity\":0.2}},\"type\":\"barpolar\"}],\"bar\":[{\"error_x\":{\"color\":\"#f2f5fa\"},\"error_y\":{\"color\":\"#f2f5fa\"},\"marker\":{\"line\":{\"color\":\"rgb(17,17,17)\",\"width\":0.5},\"pattern\":{\"fillmode\":\"overlay\",\"size\":10,\"solidity\":0.2}},\"type\":\"bar\"}],\"carpet\":[{\"aaxis\":{\"endlinecolor\":\"#A2B1C6\",\"gridcolor\":\"#506784\",\"linecolor\":\"#506784\",\"minorgridcolor\":\"#506784\",\"startlinecolor\":\"#A2B1C6\"},\"baxis\":{\"endlinecolor\":\"#A2B1C6\",\"gridcolor\":\"#506784\",\"linecolor\":\"#506784\",\"minorgridcolor\":\"#506784\",\"startlinecolor\":\"#A2B1C6\"},\"type\":\"carpet\"}],\"choropleth\":[{\"colorbar\":{\"outlinewidth\":0,\"ticks\":\"\"},\"type\":\"choropleth\"}],\"contourcarpet\":[{\"colorbar\":{\"outlinewidth\":0,\"ticks\":\"\"},\"type\":\"contourcarpet\"}],\"contour\":[{\"colorbar\":{\"outlinewidth\":0,\"ticks\":\"\"},\"colorscale\":[[0.0,\"#0d0887\"],[0.1111111111111111,\"#46039f\"],[0.2222222222222222,\"#7201a8\"],[0.3333333333333333,\"#9c179e\"],[0.4444444444444444,\"#bd3786\"],[0.5555555555555556,\"#d8576b\"],[0.6666666666666666,\"#ed7953\"],[0.7777777777777778,\"#fb9f3a\"],[0.8888888888888888,\"#fdca26\"],[1.0,\"#f0f921\"]],\"type\":\"contour\"}],\"heatmapgl\":[{\"colorbar\":{\"outlinewidth\":0,\"ticks\":\"\"},\"colorscale\":[[0.0,\"#0d0887\"],[0.1111111111111111,\"#46039f\"],[0.2222222222222222,\"#7201a8\"],[0.3333333333333333,\"#9c179e\"],[0.4444444444444444,\"#bd3786\"],[0.5555555555555556,\"#d8576b\"],[0.6666666666666666,\"#ed7953\"],[0.7777777777777778,\"#fb9f3a\"],[0.8888888888888888,\"#fdca26\"],[1.0,\"#f0f921\"]],\"type\":\"heatmapgl\"}],\"heatmap\":[{\"colorbar\":{\"outlinewidth\":0,\"ticks\":\"\"},\"colorscale\":[[0.0,\"#0d0887\"],[0.1111111111111111,\"#46039f\"],[0.2222222222222222,\"#7201a8\"],[0.3333333333333333,\"#9c179e\"],[0.4444444444444444,\"#bd3786\"],[0.5555555555555556,\"#d8576b\"],[0.6666666666666666,\"#ed7953\"],[0.7777777777777778,\"#fb9f3a\"],[0.8888888888888888,\"#fdca26\"],[1.0,\"#f0f921\"]],\"type\":\"heatmap\"}],\"histogram2dcontour\":[{\"colorbar\":{\"outlinewidth\":0,\"ticks\":\"\"},\"colorscale\":[[0.0,\"#0d0887\"],[0.1111111111111111,\"#46039f\"],[0.2222222222222222,\"#7201a8\"],[0.3333333333333333,\"#9c179e\"],[0.4444444444444444,\"#bd3786\"],[0.5555555555555556,\"#d8576b\"],[0.6666666666666666,\"#ed7953\"],[0.7777777777777778,\"#fb9f3a\"],[0.8888888888888888,\"#fdca26\"],[1.0,\"#f0f921\"]],\"type\":\"histogram2dcontour\"}],\"histogram2d\":[{\"colorbar\":{\"outlinewidth\":0,\"ticks\":\"\"},\"colorscale\":[[0.0,\"#0d0887\"],[0.1111111111111111,\"#46039f\"],[0.2222222222222222,\"#7201a8\"],[0.3333333333333333,\"#9c179e\"],[0.4444444444444444,\"#bd3786\"],[0.5555555555555556,\"#d8576b\"],[0.6666666666666666,\"#ed7953\"],[0.7777777777777778,\"#fb9f3a\"],[0.8888888888888888,\"#fdca26\"],[1.0,\"#f0f921\"]],\"type\":\"histogram2d\"}],\"histogram\":[{\"marker\":{\"pattern\":{\"fillmode\":\"overlay\",\"size\":10,\"solidity\":0.2}},\"type\":\"histogram\"}],\"mesh3d\":[{\"colorbar\":{\"outlinewidth\":0,\"ticks\":\"\"},\"type\":\"mesh3d\"}],\"parcoords\":[{\"line\":{\"colorbar\":{\"outlinewidth\":0,\"ticks\":\"\"}},\"type\":\"parcoords\"}],\"pie\":[{\"automargin\":true,\"type\":\"pie\"}],\"scatter3d\":[{\"line\":{\"colorbar\":{\"outlinewidth\":0,\"ticks\":\"\"}},\"marker\":{\"colorbar\":{\"outlinewidth\":0,\"ticks\":\"\"}},\"type\":\"scatter3d\"}],\"scattercarpet\":[{\"marker\":{\"colorbar\":{\"outlinewidth\":0,\"ticks\":\"\"}},\"type\":\"scattercarpet\"}],\"scattergeo\":[{\"marker\":{\"colorbar\":{\"outlinewidth\":0,\"ticks\":\"\"}},\"type\":\"scattergeo\"}],\"scattergl\":[{\"marker\":{\"line\":{\"color\":\"#283442\"}},\"type\":\"scattergl\"}],\"scattermapbox\":[{\"marker\":{\"colorbar\":{\"outlinewidth\":0,\"ticks\":\"\"}},\"type\":\"scattermapbox\"}],\"scatterpolargl\":[{\"marker\":{\"colorbar\":{\"outlinewidth\":0,\"ticks\":\"\"}},\"type\":\"scatterpolargl\"}],\"scatterpolar\":[{\"marker\":{\"colorbar\":{\"outlinewidth\":0,\"ticks\":\"\"}},\"type\":\"scatterpolar\"}],\"scatter\":[{\"marker\":{\"line\":{\"color\":\"#283442\"}},\"type\":\"scatter\"}],\"scatterternary\":[{\"marker\":{\"colorbar\":{\"outlinewidth\":0,\"ticks\":\"\"}},\"type\":\"scatterternary\"}],\"surface\":[{\"colorbar\":{\"outlinewidth\":0,\"ticks\":\"\"},\"colorscale\":[[0.0,\"#0d0887\"],[0.1111111111111111,\"#46039f\"],[0.2222222222222222,\"#7201a8\"],[0.3333333333333333,\"#9c179e\"],[0.4444444444444444,\"#bd3786\"],[0.5555555555555556,\"#d8576b\"],[0.6666666666666666,\"#ed7953\"],[0.7777777777777778,\"#fb9f3a\"],[0.8888888888888888,\"#fdca26\"],[1.0,\"#f0f921\"]],\"type\":\"surface\"}],\"table\":[{\"cells\":{\"fill\":{\"color\":\"#506784\"},\"line\":{\"color\":\"rgb(17,17,17)\"}},\"header\":{\"fill\":{\"color\":\"#2a3f5f\"},\"line\":{\"color\":\"rgb(17,17,17)\"}},\"type\":\"table\"}]},\"layout\":{\"annotationdefaults\":{\"arrowcolor\":\"#f2f5fa\",\"arrowhead\":0,\"arrowwidth\":1},\"autotypenumbers\":\"strict\",\"coloraxis\":{\"colorbar\":{\"outlinewidth\":0,\"ticks\":\"\"}},\"colorscale\":{\"diverging\":[[0,\"#8e0152\"],[0.1,\"#c51b7d\"],[0.2,\"#de77ae\"],[0.3,\"#f1b6da\"],[0.4,\"#fde0ef\"],[0.5,\"#f7f7f7\"],[0.6,\"#e6f5d0\"],[0.7,\"#b8e186\"],[0.8,\"#7fbc41\"],[0.9,\"#4d9221\"],[1,\"#276419\"]],\"sequential\":[[0.0,\"#0d0887\"],[0.1111111111111111,\"#46039f\"],[0.2222222222222222,\"#7201a8\"],[0.3333333333333333,\"#9c179e\"],[0.4444444444444444,\"#bd3786\"],[0.5555555555555556,\"#d8576b\"],[0.6666666666666666,\"#ed7953\"],[0.7777777777777778,\"#fb9f3a\"],[0.8888888888888888,\"#fdca26\"],[1.0,\"#f0f921\"]],\"sequentialminus\":[[0.0,\"#0d0887\"],[0.1111111111111111,\"#46039f\"],[0.2222222222222222,\"#7201a8\"],[0.3333333333333333,\"#9c179e\"],[0.4444444444444444,\"#bd3786\"],[0.5555555555555556,\"#d8576b\"],[0.6666666666666666,\"#ed7953\"],[0.7777777777777778,\"#fb9f3a\"],[0.8888888888888888,\"#fdca26\"],[1.0,\"#f0f921\"]]},\"colorway\":[\"#636efa\",\"#EF553B\",\"#00cc96\",\"#ab63fa\",\"#FFA15A\",\"#19d3f3\",\"#FF6692\",\"#B6E880\",\"#FF97FF\",\"#FECB52\"],\"font\":{\"color\":\"#f2f5fa\"},\"geo\":{\"bgcolor\":\"rgb(17,17,17)\",\"lakecolor\":\"rgb(17,17,17)\",\"landcolor\":\"rgb(17,17,17)\",\"showlakes\":true,\"showland\":true,\"subunitcolor\":\"#506784\"},\"hoverlabel\":{\"align\":\"left\"},\"hovermode\":\"closest\",\"mapbox\":{\"style\":\"dark\"},\"paper_bgcolor\":\"rgb(17,17,17)\",\"plot_bgcolor\":\"rgb(17,17,17)\",\"polar\":{\"angularaxis\":{\"gridcolor\":\"#506784\",\"linecolor\":\"#506784\",\"ticks\":\"\"},\"bgcolor\":\"rgb(17,17,17)\",\"radialaxis\":{\"gridcolor\":\"#506784\",\"linecolor\":\"#506784\",\"ticks\":\"\"}},\"scene\":{\"xaxis\":{\"backgroundcolor\":\"rgb(17,17,17)\",\"gridcolor\":\"#506784\",\"gridwidth\":2,\"linecolor\":\"#506784\",\"showbackground\":true,\"ticks\":\"\",\"zerolinecolor\":\"#C8D4E3\"},\"yaxis\":{\"backgroundcolor\":\"rgb(17,17,17)\",\"gridcolor\":\"#506784\",\"gridwidth\":2,\"linecolor\":\"#506784\",\"showbackground\":true,\"ticks\":\"\",\"zerolinecolor\":\"#C8D4E3\"},\"zaxis\":{\"backgroundcolor\":\"rgb(17,17,17)\",\"gridcolor\":\"#506784\",\"gridwidth\":2,\"linecolor\":\"#506784\",\"showbackground\":true,\"ticks\":\"\",\"zerolinecolor\":\"#C8D4E3\"}},\"shapedefaults\":{\"line\":{\"color\":\"#f2f5fa\"}},\"sliderdefaults\":{\"bgcolor\":\"#C8D4E3\",\"bordercolor\":\"rgb(17,17,17)\",\"borderwidth\":1,\"tickwidth\":0},\"ternary\":{\"aaxis\":{\"gridcolor\":\"#506784\",\"linecolor\":\"#506784\",\"ticks\":\"\"},\"baxis\":{\"gridcolor\":\"#506784\",\"linecolor\":\"#506784\",\"ticks\":\"\"},\"bgcolor\":\"rgb(17,17,17)\",\"caxis\":{\"gridcolor\":\"#506784\",\"linecolor\":\"#506784\",\"ticks\":\"\"}},\"title\":{\"x\":0.05},\"updatemenudefaults\":{\"bgcolor\":\"#506784\",\"borderwidth\":0},\"xaxis\":{\"automargin\":true,\"gridcolor\":\"#283442\",\"linecolor\":\"#506784\",\"ticks\":\"\",\"title\":{\"standoff\":15},\"zerolinecolor\":\"#283442\",\"zerolinewidth\":2},\"yaxis\":{\"automargin\":true,\"gridcolor\":\"#283442\",\"linecolor\":\"#506784\",\"ticks\":\"\",\"title\":{\"standoff\":15},\"zerolinecolor\":\"#283442\",\"zerolinewidth\":2}}},\"geo\":{\"domain\":{\"x\":[0.0,1.0],\"y\":[0.0,1.0]},\"center\":{}},\"coloraxis\":{\"colorbar\":{\"title\":{\"text\":\"Confirmed\"}},\"colorscale\":[[0.0,\"#0d0887\"],[0.1111111111111111,\"#46039f\"],[0.2222222222222222,\"#7201a8\"],[0.3333333333333333,\"#9c179e\"],[0.4444444444444444,\"#bd3786\"],[0.5555555555555556,\"#d8576b\"],[0.6666666666666666,\"#ed7953\"],[0.7777777777777778,\"#fb9f3a\"],[0.8888888888888888,\"#fdca26\"],[1.0,\"#f0f921\"]]},\"legend\":{\"tracegroupgap\":0,\"itemsizing\":\"constant\"},\"margin\":{\"t\":60}},                        {\"responsive\": true}                    ).then(function(){\n",
       "                            \n",
       "var gd = document.getElementById('c60d1b15-8fa7-49d9-9ade-f407ba805fad');\n",
       "var x = new MutationObserver(function (mutations, observer) {{\n",
       "        var display = window.getComputedStyle(gd).display;\n",
       "        if (!display || display === 'none') {{\n",
       "            console.log([gd, 'removed!']);\n",
       "            Plotly.purge(gd);\n",
       "            observer.disconnect();\n",
       "        }}\n",
       "}});\n",
       "\n",
       "// Listen for the removal of the full notebook cells\n",
       "var notebookContainer = gd.closest('#notebook-container');\n",
       "if (notebookContainer) {{\n",
       "    x.observe(notebookContainer, {childList: true});\n",
       "}}\n",
       "\n",
       "// Listen for the clearing of the current output cell\n",
       "var outputEl = gd.closest('.output');\n",
       "if (outputEl) {{\n",
       "    x.observe(outputEl, {childList: true});\n",
       "}}\n",
       "\n",
       "                        })                };                });            </script>        </div>"
      ]
     },
     "metadata": {},
     "output_type": "display_data"
    }
   ],
   "source": [
    "import plotly.express as px\n",
    "from data import countries_df  \n",
    "\n",
    "# Print the first few rows of the DataFrame for debugging\n",
    "print(countries_df.head())\n",
    "\n",
    "# Create a scatter_geo plot using Plotly Express\n",
    "fig = px.scatter_geo(\n",
    "    countries_df, \n",
    "    size=\"Confirmed\",\n",
    "    size_max=40,\n",
    "    hover_name=\"Country_Region\",\n",
    "    color=\"Confirmed\", \n",
    "    locationmode=\"country names\",\n",
    "    locations=\"Country_Region\", \n",
    "    template=\"plotly_dark\",\n",
    "    hover_data={\n",
    "        \"Confirmed\": \":,.2f\",\n",
    "        \"Recovered\": \":,.2f\",\n",
    "        \"Deaths\": \":,.2f\",\n",
    "        \"Country_Region\": False\n",
    "    }\n",
    ")\n",
    "\n",
    "# Show the plot\n",
    "fig.show()\n"
   ]
  },
  {
   "cell_type": "code",
   "execution_count": null,
   "id": "2020053f-50ca-47b7-8ee5-5b3fdb254b3f",
   "metadata": {},
   "outputs": [],
   "source": []
  }
 ],
 "metadata": {
  "kernelspec": {
   "display_name": "Python 3 (ipykernel)",
   "language": "python",
   "name": "python3"
  },
  "language_info": {
   "codemirror_mode": {
    "name": "ipython",
    "version": 3
   },
   "file_extension": ".py",
   "mimetype": "text/x-python",
   "name": "python",
   "nbconvert_exporter": "python",
   "pygments_lexer": "ipython3",
   "version": "3.12.1"
  }
 },
 "nbformat": 4,
 "nbformat_minor": 5
}
